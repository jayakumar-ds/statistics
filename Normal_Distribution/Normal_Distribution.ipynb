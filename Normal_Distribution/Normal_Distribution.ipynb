{
 "cells": [
  {
   "cell_type": "markdown",
   "id": "6ea63ca0-edce-471d-b322-6a6d92f33750",
   "metadata": {},
   "source": [
    "### Normal Distribution:"
   ]
  },
  {
   "cell_type": "code",
   "execution_count": 75,
   "id": "c9ae9f53-c8b6-4f33-87c5-45030777c8fc",
   "metadata": {},
   "outputs": [],
   "source": [
    "import pandas as pd\n",
    "import warnings\n",
    "warnings.filterwarnings('ignore')"
   ]
  },
  {
   "cell_type": "code",
   "execution_count": 9,
   "id": "ae0c12fd-fbd1-4dbc-a031-2274490d9906",
   "metadata": {},
   "outputs": [],
   "source": [
    "data = pd.read_csv(\"preProcessed_data.csv\")"
   ]
  },
  {
   "cell_type": "code",
   "execution_count": 11,
   "id": "f465e0fe-ce82-4ecf-bb22-c950ea804460",
   "metadata": {},
   "outputs": [
    {
     "data": {
      "text/html": [
       "<div>\n",
       "<style scoped>\n",
       "    .dataframe tbody tr th:only-of-type {\n",
       "        vertical-align: middle;\n",
       "    }\n",
       "\n",
       "    .dataframe tbody tr th {\n",
       "        vertical-align: top;\n",
       "    }\n",
       "\n",
       "    .dataframe thead th {\n",
       "        text-align: right;\n",
       "    }\n",
       "</style>\n",
       "<table border=\"1\" class=\"dataframe\">\n",
       "  <thead>\n",
       "    <tr style=\"text-align: right;\">\n",
       "      <th></th>\n",
       "      <th>gender</th>\n",
       "      <th>ssc_b</th>\n",
       "      <th>hsc_b</th>\n",
       "      <th>hsc_s</th>\n",
       "      <th>degree_t</th>\n",
       "      <th>workex</th>\n",
       "      <th>specialisation</th>\n",
       "      <th>status</th>\n",
       "      <th>sl_no</th>\n",
       "      <th>ssc_p</th>\n",
       "      <th>hsc_p</th>\n",
       "      <th>degree_p</th>\n",
       "      <th>etest_p</th>\n",
       "      <th>mba_p</th>\n",
       "      <th>salary</th>\n",
       "    </tr>\n",
       "  </thead>\n",
       "  <tbody>\n",
       "    <tr>\n",
       "      <th>0</th>\n",
       "      <td>M</td>\n",
       "      <td>Others</td>\n",
       "      <td>Others</td>\n",
       "      <td>Commerce</td>\n",
       "      <td>Sci&amp;Tech</td>\n",
       "      <td>No</td>\n",
       "      <td>Mkt&amp;HR</td>\n",
       "      <td>Placed</td>\n",
       "      <td>1.0</td>\n",
       "      <td>67.00</td>\n",
       "      <td>91.00</td>\n",
       "      <td>58.00</td>\n",
       "      <td>55.0</td>\n",
       "      <td>58.80</td>\n",
       "      <td>270000.000000</td>\n",
       "    </tr>\n",
       "    <tr>\n",
       "      <th>1</th>\n",
       "      <td>M</td>\n",
       "      <td>Central</td>\n",
       "      <td>Others</td>\n",
       "      <td>Science</td>\n",
       "      <td>Sci&amp;Tech</td>\n",
       "      <td>Yes</td>\n",
       "      <td>Mkt&amp;Fin</td>\n",
       "      <td>Placed</td>\n",
       "      <td>2.0</td>\n",
       "      <td>79.33</td>\n",
       "      <td>78.33</td>\n",
       "      <td>77.48</td>\n",
       "      <td>86.5</td>\n",
       "      <td>66.28</td>\n",
       "      <td>200000.000000</td>\n",
       "    </tr>\n",
       "    <tr>\n",
       "      <th>2</th>\n",
       "      <td>M</td>\n",
       "      <td>Central</td>\n",
       "      <td>Central</td>\n",
       "      <td>Arts</td>\n",
       "      <td>Comm&amp;Mgmt</td>\n",
       "      <td>No</td>\n",
       "      <td>Mkt&amp;Fin</td>\n",
       "      <td>Placed</td>\n",
       "      <td>3.0</td>\n",
       "      <td>65.00</td>\n",
       "      <td>68.00</td>\n",
       "      <td>64.00</td>\n",
       "      <td>75.0</td>\n",
       "      <td>57.80</td>\n",
       "      <td>250000.000000</td>\n",
       "    </tr>\n",
       "    <tr>\n",
       "      <th>3</th>\n",
       "      <td>M</td>\n",
       "      <td>Central</td>\n",
       "      <td>Central</td>\n",
       "      <td>Science</td>\n",
       "      <td>Sci&amp;Tech</td>\n",
       "      <td>No</td>\n",
       "      <td>Mkt&amp;HR</td>\n",
       "      <td>Not Placed</td>\n",
       "      <td>4.0</td>\n",
       "      <td>56.00</td>\n",
       "      <td>52.00</td>\n",
       "      <td>52.00</td>\n",
       "      <td>66.0</td>\n",
       "      <td>59.43</td>\n",
       "      <td>288655.405405</td>\n",
       "    </tr>\n",
       "    <tr>\n",
       "      <th>4</th>\n",
       "      <td>M</td>\n",
       "      <td>Central</td>\n",
       "      <td>Central</td>\n",
       "      <td>Commerce</td>\n",
       "      <td>Comm&amp;Mgmt</td>\n",
       "      <td>No</td>\n",
       "      <td>Mkt&amp;Fin</td>\n",
       "      <td>Placed</td>\n",
       "      <td>5.0</td>\n",
       "      <td>85.80</td>\n",
       "      <td>73.60</td>\n",
       "      <td>73.30</td>\n",
       "      <td>96.8</td>\n",
       "      <td>55.50</td>\n",
       "      <td>425000.000000</td>\n",
       "    </tr>\n",
       "    <tr>\n",
       "      <th>...</th>\n",
       "      <td>...</td>\n",
       "      <td>...</td>\n",
       "      <td>...</td>\n",
       "      <td>...</td>\n",
       "      <td>...</td>\n",
       "      <td>...</td>\n",
       "      <td>...</td>\n",
       "      <td>...</td>\n",
       "      <td>...</td>\n",
       "      <td>...</td>\n",
       "      <td>...</td>\n",
       "      <td>...</td>\n",
       "      <td>...</td>\n",
       "      <td>...</td>\n",
       "      <td>...</td>\n",
       "    </tr>\n",
       "    <tr>\n",
       "      <th>210</th>\n",
       "      <td>M</td>\n",
       "      <td>Others</td>\n",
       "      <td>Others</td>\n",
       "      <td>Commerce</td>\n",
       "      <td>Comm&amp;Mgmt</td>\n",
       "      <td>No</td>\n",
       "      <td>Mkt&amp;Fin</td>\n",
       "      <td>Placed</td>\n",
       "      <td>211.0</td>\n",
       "      <td>80.60</td>\n",
       "      <td>82.00</td>\n",
       "      <td>77.60</td>\n",
       "      <td>91.0</td>\n",
       "      <td>74.49</td>\n",
       "      <td>400000.000000</td>\n",
       "    </tr>\n",
       "    <tr>\n",
       "      <th>211</th>\n",
       "      <td>M</td>\n",
       "      <td>Others</td>\n",
       "      <td>Others</td>\n",
       "      <td>Science</td>\n",
       "      <td>Sci&amp;Tech</td>\n",
       "      <td>No</td>\n",
       "      <td>Mkt&amp;Fin</td>\n",
       "      <td>Placed</td>\n",
       "      <td>212.0</td>\n",
       "      <td>58.00</td>\n",
       "      <td>60.00</td>\n",
       "      <td>72.00</td>\n",
       "      <td>74.0</td>\n",
       "      <td>53.62</td>\n",
       "      <td>275000.000000</td>\n",
       "    </tr>\n",
       "    <tr>\n",
       "      <th>212</th>\n",
       "      <td>M</td>\n",
       "      <td>Others</td>\n",
       "      <td>Others</td>\n",
       "      <td>Commerce</td>\n",
       "      <td>Comm&amp;Mgmt</td>\n",
       "      <td>Yes</td>\n",
       "      <td>Mkt&amp;Fin</td>\n",
       "      <td>Placed</td>\n",
       "      <td>213.0</td>\n",
       "      <td>67.00</td>\n",
       "      <td>67.00</td>\n",
       "      <td>73.00</td>\n",
       "      <td>59.0</td>\n",
       "      <td>69.72</td>\n",
       "      <td>295000.000000</td>\n",
       "    </tr>\n",
       "    <tr>\n",
       "      <th>213</th>\n",
       "      <td>F</td>\n",
       "      <td>Others</td>\n",
       "      <td>Others</td>\n",
       "      <td>Commerce</td>\n",
       "      <td>Comm&amp;Mgmt</td>\n",
       "      <td>No</td>\n",
       "      <td>Mkt&amp;HR</td>\n",
       "      <td>Placed</td>\n",
       "      <td>214.0</td>\n",
       "      <td>74.00</td>\n",
       "      <td>66.00</td>\n",
       "      <td>58.00</td>\n",
       "      <td>70.0</td>\n",
       "      <td>60.23</td>\n",
       "      <td>204000.000000</td>\n",
       "    </tr>\n",
       "    <tr>\n",
       "      <th>214</th>\n",
       "      <td>M</td>\n",
       "      <td>Central</td>\n",
       "      <td>Others</td>\n",
       "      <td>Science</td>\n",
       "      <td>Comm&amp;Mgmt</td>\n",
       "      <td>No</td>\n",
       "      <td>Mkt&amp;HR</td>\n",
       "      <td>Not Placed</td>\n",
       "      <td>215.0</td>\n",
       "      <td>62.00</td>\n",
       "      <td>58.00</td>\n",
       "      <td>53.00</td>\n",
       "      <td>89.0</td>\n",
       "      <td>60.22</td>\n",
       "      <td>288655.405405</td>\n",
       "    </tr>\n",
       "  </tbody>\n",
       "</table>\n",
       "<p>215 rows × 15 columns</p>\n",
       "</div>"
      ],
      "text/plain": [
       "    gender    ssc_b    hsc_b     hsc_s   degree_t workex specialisation  \\\n",
       "0        M   Others   Others  Commerce   Sci&Tech     No         Mkt&HR   \n",
       "1        M  Central   Others   Science   Sci&Tech    Yes        Mkt&Fin   \n",
       "2        M  Central  Central      Arts  Comm&Mgmt     No        Mkt&Fin   \n",
       "3        M  Central  Central   Science   Sci&Tech     No         Mkt&HR   \n",
       "4        M  Central  Central  Commerce  Comm&Mgmt     No        Mkt&Fin   \n",
       "..     ...      ...      ...       ...        ...    ...            ...   \n",
       "210      M   Others   Others  Commerce  Comm&Mgmt     No        Mkt&Fin   \n",
       "211      M   Others   Others   Science   Sci&Tech     No        Mkt&Fin   \n",
       "212      M   Others   Others  Commerce  Comm&Mgmt    Yes        Mkt&Fin   \n",
       "213      F   Others   Others  Commerce  Comm&Mgmt     No         Mkt&HR   \n",
       "214      M  Central   Others   Science  Comm&Mgmt     No         Mkt&HR   \n",
       "\n",
       "         status  sl_no  ssc_p  hsc_p  degree_p  etest_p  mba_p         salary  \n",
       "0        Placed    1.0  67.00  91.00     58.00     55.0  58.80  270000.000000  \n",
       "1        Placed    2.0  79.33  78.33     77.48     86.5  66.28  200000.000000  \n",
       "2        Placed    3.0  65.00  68.00     64.00     75.0  57.80  250000.000000  \n",
       "3    Not Placed    4.0  56.00  52.00     52.00     66.0  59.43  288655.405405  \n",
       "4        Placed    5.0  85.80  73.60     73.30     96.8  55.50  425000.000000  \n",
       "..          ...    ...    ...    ...       ...      ...    ...            ...  \n",
       "210      Placed  211.0  80.60  82.00     77.60     91.0  74.49  400000.000000  \n",
       "211      Placed  212.0  58.00  60.00     72.00     74.0  53.62  275000.000000  \n",
       "212      Placed  213.0  67.00  67.00     73.00     59.0  69.72  295000.000000  \n",
       "213      Placed  214.0  74.00  66.00     58.00     70.0  60.23  204000.000000  \n",
       "214  Not Placed  215.0  62.00  58.00     53.00     89.0  60.22  288655.405405  \n",
       "\n",
       "[215 rows x 15 columns]"
      ]
     },
     "execution_count": 11,
     "metadata": {},
     "output_type": "execute_result"
    }
   ],
   "source": [
    "data"
   ]
  },
  {
   "cell_type": "code",
   "execution_count": 13,
   "id": "de47dc26-c723-4ea7-a463-b6cdf07f96b8",
   "metadata": {},
   "outputs": [],
   "source": [
    "import seaborn as sns\n",
    "import matplotlib.pyplot as plt"
   ]
  },
  {
   "cell_type": "markdown",
   "id": "bf1420ed-9448-458f-ac35-27f3b29f13e1",
   "metadata": {},
   "source": [
    "### Probability Density Function:"
   ]
  },
  {
   "cell_type": "code",
   "execution_count": 71,
   "id": "78d0ab6b-b1a9-4127-8132-cdfdcf88c0ce",
   "metadata": {},
   "outputs": [],
   "source": [
    "def get_pdf_probability(data,startrange,endrange):\n",
    "    from matplotlib import pyplot\n",
    "    from scipy.stats import norm\n",
    "    import seaborn as sns\n",
    "    ax = sns.distplot(data,kde=True,kde_kws={'color':'blue'},color='Green')\n",
    "    pyplot.axvline(startrange,color='Red')\n",
    "    pyplot.axvline(endrange,color='Red')\n",
    "    # generate a sample\n",
    "    sample = data\n",
    "    # calculate parameters\n",
    "    sample_mean =sample.mean()\n",
    "    sample_std = sample.std()\n",
    "    print('Mean=%.3f, Standard Deviation=%.3f' % (sample_mean, sample_std))\n",
    "    # define the distribution\n",
    "    dist = norm(sample_mean, sample_std)\n",
    "    \n",
    "    # sample probabilities for a range of outcomes\n",
    "    values = [value for value in range(startrange, endrange)]\n",
    "    probabilities = [dist.pdf(value) for value in values]    \n",
    "    prob=sum(probabilities)\n",
    "    print(\"The area between range({},{}):{}\".format(startrange,endrange,sum(probabilities)))\n",
    "    return prob\n",
    "    "
   ]
  },
  {
   "cell_type": "code",
   "execution_count": 81,
   "id": "5787b595-a3c7-4e82-ba3b-f48b524b40ca",
   "metadata": {},
   "outputs": [
    {
     "name": "stdout",
     "output_type": "stream",
     "text": [
      "Mean=66.333, Standard Deviation=10.898\n",
      "The area between range(60,90):0.7180298788589667\n"
     ]
    },
    {
     "data": {
      "text/plain": [
       "0.7180298788589667"
      ]
     },
     "execution_count": 81,
     "metadata": {},
     "output_type": "execute_result"
    },
    {
     "data": {
      "image/png": "[encoded data removed]",
      "text/plain": [
       "<Figure size 640x480 with 1 Axes>"
      ]
     },
     "metadata": {},
     "output_type": "display_data"
    }
   ],
   "source": [
    "get_pdf_probability(data['hsc_p'],60,90)"
   ]
  },
  {
   "cell_type": "code",
   "execution_count": 21,
   "id": "8fc316b5-9817-4178-abd5-1b20e04dbb31",
   "metadata": {},
   "outputs": [],
   "source": [
    "#!pip install statsmodels"
   ]
  },
  {
   "cell_type": "markdown",
   "id": "f572bbfb-ab30-4d45-b99a-36b921b9745e",
   "metadata": {},
   "source": [
    "### Cumulative Density Frequency calculations:"
   ]
  },
  {
   "cell_type": "code",
   "execution_count": 23,
   "id": "9ba8c2d3-e7d0-4167-a037-9d07453270cb",
   "metadata": {},
   "outputs": [],
   "source": [
    "from statsmodels.distributions.empirical_distribution import ECDF"
   ]
  },
  {
   "cell_type": "code",
   "execution_count": 34,
   "id": "62660cb3-eb6a-4443-9fc2-42b6c67efe1c",
   "metadata": {},
   "outputs": [
    {
     "data": {
      "text/plain": [
       "Text(0.5, 1.0, 'SSC_P with KDE')"
      ]
     },
     "execution_count": 34,
     "metadata": {},
     "output_type": "execute_result"
    },
    {
     "data": {
      "image/png": "[encoded data removed]",
      "text/plain": [
       "<Figure size 640x480 with 1 Axes>"
      ]
     },
     "metadata": {},
     "output_type": "display_data"
    }
   ],
   "source": [
    "sns.histplot(data['ssc_p'],kde=True)\n",
    "plt.title(\"SSC_P with KDE\")"
   ]
  },
  {
   "cell_type": "code",
   "execution_count": 30,
   "id": "0b64a05c-7319-49fd-9337-9e2e50aaf101",
   "metadata": {},
   "outputs": [
    {
     "data": {
      "text/plain": [
       "0.7395348837209302"
      ]
     },
     "execution_count": 30,
     "metadata": {},
     "output_type": "execute_result"
    }
   ],
   "source": [
    "ecdf = ECDF(data['ssc_p'])\n",
    "ecdf(75) # we can pass 1 to 100 to get the excat percentage from the distribution model."
   ]
  },
  {
   "cell_type": "code",
   "execution_count": null,
   "id": "d3fba52f-d3a9-4d1d-98c5-36139f1247b4",
   "metadata": {},
   "outputs": [],
   "source": []
  },
  {
   "cell_type": "code",
   "execution_count": null,
   "id": "b293d25b-c442-4e95-9b88-589765cf9141",
   "metadata": {},
   "outputs": [],
   "source": []
  },
  {
   "cell_type": "code",
   "execution_count": 97,
   "id": "2f7427c2-52df-4dee-9482-0159618e004b",
   "metadata": {},
   "outputs": [],
   "source": [
    "# Practice code on finding z-score"
   ]
  },
  {
   "cell_type": "code",
   "execution_count": 95,
   "id": "2b7c3e9f-7132-40ba-8bb5-c0c095d6ae25",
   "metadata": {},
   "outputs": [
    {
     "name": "stdout",
     "output_type": "stream",
     "text": [
      "   student_id  math_marks    zscore outlier\n",
      "0           1          50 -1.039177  Normal\n",
      "1           2          55 -0.853610  Normal\n",
      "2           3          60 -0.668043  Normal\n",
      "3           4          65 -0.482475  Normal\n",
      "4           5          70 -0.296908  Normal\n",
      "5           6          75 -0.111340  Normal\n",
      "6           7          80  0.074227  Normal\n",
      "7           8          85  0.259794  Normal\n",
      "8           9          90  0.445362  Normal\n",
      "9          10         150  2.672171  Normal\n"
     ]
    }
   ],
   "source": [
    "import pandas as pd\n",
    "import numpy as np\n",
    "from scipy.stats import zscore\n",
    "import matplotlib.pyplot as plt\n",
    "\n",
    "# Step 1: Create sample data\n",
    "data = pd.DataFrame({\n",
    "    'student_id': range(1, 11),\n",
    "    'math_marks': [50, 55, 60, 65, 70, 75, 80, 85, 90, 150]  # 150 is a clear outlier\n",
    "})\n",
    "\n",
    "# Step 2: Calculate Z-scores\n",
    "data['zscore'] = zscore(data['math_marks'])\n",
    "\n",
    "# Step 3: Detect Outliers (Z > 3 or < -3)\n",
    "data['outlier'] = data['zscore'].apply(lambda x: 'Outlier' if abs(x) > 3 else 'Normal')\n",
    "\n",
    "print(data)\n"
   ]
  },
  {
   "cell_type": "code",
   "execution_count": null,
   "id": "904f2fcf-57d7-409c-a696-07c0f8b6759a",
   "metadata": {},
   "outputs": [],
   "source": []
  },
  {
   "cell_type": "code",
   "execution_count": null,
   "id": "b60f03a1-4518-45c1-b960-7925d0324f23",
   "metadata": {},
   "outputs": [],
   "source": []
  }
 ],
 "metadata": {
  "kernelspec": {
   "display_name": "Python 3 (ipykernel)",
   "language": "python",
   "name": "python3"
  },
  "language_info": {
   "codemirror_mode": {
    "name": "ipython",
    "version": 3
   },
   "file_extension": ".py",
   "mimetype": "text/x-python",
   "name": "python",
   "nbconvert_exporter": "python",
   "pygments_lexer": "ipython3",
   "version": "3.12.4"
  }
 },
 "nbformat": 4,
 "nbformat_minor": 5
}
