{
 "cells": [
  {
   "cell_type": "code",
   "execution_count": 9,
   "id": "a2038660-31c3-41e1-bfa5-1b960e2b4852",
   "metadata": {},
   "outputs": [],
   "source": [
    "from Univariate import Univariate"
   ]
  },
  {
   "cell_type": "code",
   "execution_count": 11,
   "id": "358a2382-c1cd-4fd9-a6b7-eb26e18b2700",
   "metadata": {},
   "outputs": [],
   "source": [
    "import pandas as pd"
   ]
  },
  {
   "cell_type": "code",
   "execution_count": 13,
   "id": "d6299adf-b84a-44f7-9bec-82a1fe5dccb6",
   "metadata": {},
   "outputs": [],
   "source": [
    "data = pd.read_csv('placement.csv')"
   ]
  },
  {
   "cell_type": "code",
   "execution_count": 27,
   "id": "4ae946a6-b1cb-4046-8db8-37fbbf8c28d0",
   "metadata": {},
   "outputs": [],
   "source": [
    "qual,quan = Univariate.qualQuan(data)"
   ]
  },
  {
   "cell_type": "code",
   "execution_count": 29,
   "id": "21fde9bf-ee0b-4322-bd22-d7784db4ec10",
   "metadata": {},
   "outputs": [
    {
     "data": {
      "text/plain": [
       "['gender',\n",
       " 'ssc_b',\n",
       " 'hsc_b',\n",
       " 'hsc_s',\n",
       " 'degree_t',\n",
       " 'workex',\n",
       " 'specialisation',\n",
       " 'status']"
      ]
     },
     "execution_count": 29,
     "metadata": {},
     "output_type": "execute_result"
    }
   ],
   "source": [
    "qual"
   ]
  },
  {
   "cell_type": "code",
   "execution_count": 31,
   "id": "e64c27a5-92a8-4a59-ae8e-51867a2a4a93",
   "metadata": {},
   "outputs": [
    {
     "data": {
      "text/plain": [
       "['sl_no', 'ssc_p', 'hsc_p', 'degree_p', 'etest_p', 'mba_p', 'salary']"
      ]
     },
     "execution_count": 31,
     "metadata": {},
     "output_type": "execute_result"
    }
   ],
   "source": [
    "quan"
   ]
  },
  {
   "cell_type": "code",
   "execution_count": null,
   "id": "88d7178a-bf22-4ad6-b672-d00a74f9380f",
   "metadata": {},
   "outputs": [],
   "source": []
  }
 ],
 "metadata": {
  "kernelspec": {
   "display_name": "Python 3 (ipykernel)",
   "language": "python",
   "name": "python3"
  },
  "language_info": {
   "codemirror_mode": {
    "name": "ipython",
    "version": 3
   },
   "file_extension": ".py",
   "mimetype": "text/x-python",
   "name": "python",
   "nbconvert_exporter": "python",
   "pygments_lexer": "ipython3",
   "version": "3.12.4"
  }
 },
 "nbformat": 4,
 "nbformat_minor": 5
}
